{
 "cells": [
  {
   "cell_type": "code",
   "execution_count": 1,
   "metadata": {},
   "outputs": [],
   "source": [
    "import os, csv, math\n",
    "import pandas as pd\n",
    "import matplotlib.pyplot as plt\n",
    "import numpy as np"
   ]
  },
  {
   "cell_type": "code",
   "execution_count": 2,
   "metadata": {},
   "outputs": [],
   "source": [
    "results_path_256 = './3500_results/256GB/graphs/results.csv'\n",
    "results_path_8 = './3500_results/8GB/graphs/results.csv'\n",
    "results_path_4 = './3500_results/4GB/graphs/results.csv'"
   ]
  },
  {
   "cell_type": "code",
   "execution_count": 3,
   "metadata": {},
   "outputs": [
    {
     "name": "stderr",
     "output_type": "stream",
     "text": [
      "/home/glatard/venvs/jupyter/lib64/python3.8/site-packages/numpy/core/_asarray.py:83: UserWarning: Warning: converting a masked element to nan.\n",
      "  return array(a, dtype, copy=False, order=order)\n",
      "<ipython-input-3-304383656843>:59: UserWarning: FixedFormatter should only be used together with FixedLocator\n",
      "  ax.set_yticklabels(ref_names)\n"
     ]
    },
    {
     "data": {
      "image/png": "[encoded data removed]",
      "text/plain": [
       "<Figure size 1080x576 with 3 Axes>"
      ]
     },
     "metadata": {
      "needs_background": "light"
     },
     "output_type": "display_data"
    }
   ],
   "source": [
    "fig, (ax1, ax2, ax3) = plt.subplots(1,3,figsize=(15, 8), sharey=True)\n",
    "for ax in (ax1, ax2, ax3):\n",
    "    ax.grid(True, axis='x', which='both', color='black', alpha=0.2, zorder=0)\n",
    "    ax.set_xlim(1, 10**9)\n",
    "\n",
    "\n",
    "def compute_graph(results_path, ax, title, legend=False, first=False):\n",
    "    df = pd.read_csv(results_path)\n",
    "    df_seeks = pd.read_csv(results_path)\n",
    "\n",
    "    df_seeks = df_seeks.drop(columns=['Unnamed: 0', 'case_name', 'process_time', 'preprocess_time', 'read_time', 'write_time', 'max_voxels', 'success'])\n",
    "    \n",
    "    df_keep = df_seeks.loc[df_seeks[\"model\"]==\"keep\"]\n",
    "    keep_means = df_keep.groupby('run_ref').mean()\n",
    "    keep_stds = df_keep.groupby('run_ref').std()\n",
    "    \n",
    "    df_baseline = df_seeks.loc[df_seeks[\"model\"]==\"baseline\"]\n",
    "    baseline_means = df_baseline.groupby('run_ref').mean()\n",
    "    baseline_stds = df_baseline.groupby('run_ref').std()\n",
    "\n",
    "    # preprocessing\n",
    "    df = df.drop(columns=['max_voxels', 'success', 'case_name', 'Unnamed: 0'])\n",
    "    df = df.drop(columns=['outfile_openings', 'outfile_seeks', 'infile_openings', 'infile_seeks'])\n",
    "    references = df[\"run_ref\"].unique()\n",
    "    models = df[\"model\"].unique()\n",
    "    \n",
    "    outseeks_bottom_k = keep_means['infile_openings'] + keep_means['infile_seeks'] + keep_means['outfile_openings']\n",
    "    outops_bottom_k = keep_means['infile_openings'] + keep_means['infile_seeks'] \n",
    "    inseeks_bottom_k = keep_means['infile_openings'] \n",
    "\n",
    "    outseeks_bottom_b = baseline_means['infile_openings'] + baseline_means['infile_seeks'] + baseline_means['outfile_openings']\n",
    "    outops_bottom_b = baseline_means['infile_openings'] + baseline_means['infile_seeks'] \n",
    "    inseeks_bottom_b = baseline_means['infile_openings'] \n",
    "\n",
    "    \n",
    "    x = np.arange(len(references))  # the label locations\n",
    "    \n",
    "    width = 0.20  # the width of the bars\n",
    "    width_step = [width /2, width /2]\n",
    "    \n",
    "    _ = ax.barh(x - width/2, baseline_means['infile_openings'], width, yerr=baseline_stds['infile_openings'], label='infile_openings (baseline)', color=['tab:blue'], alpha=0.4)\n",
    "    _ = ax.barh(x - width/2, baseline_means['infile_seeks'], width, left=inseeks_bottom_b, yerr=baseline_stds['infile_seeks'], label='infile_seeks (baseline)', color=['darkblue'], alpha=0.4)\n",
    "    _ = ax.barh(x - width/2, baseline_means['outfile_openings'], width, left=outops_bottom_b, yerr=baseline_stds['outfile_openings'], label='outfile_openings (baseline)', color=['tab:green'], alpha=0.4)\n",
    "    _ = ax.barh(x - width/2, baseline_means['outfile_seeks'], width, left=outseeks_bottom_b, yerr=baseline_stds['outfile_seeks'], label='outfile_seeks (baseline)', color=['darkgreen'], alpha=0.4)\n",
    "    \n",
    "    _ = ax.barh(x + width/2, keep_means['infile_openings'], width, yerr=keep_stds['infile_openings'], label='infile_openings (keep)', color=['tab:blue'])\n",
    "    _ = ax.barh(x + width/2, keep_means['infile_seeks'], width, left=inseeks_bottom_k, yerr=keep_stds['infile_seeks'], label='infile_seeks (keep)', color=['darkblue'])\n",
    "    _ = ax.barh(x + width/2, keep_means['outfile_openings'], width, left=outops_bottom_k, yerr=keep_stds['outfile_openings'], label='outfile_openings (keep)', color=['tab:green'])\n",
    "    _ = ax.barh(x + width/2, keep_means['outfile_seeks'], width, left=outseeks_bottom_k, yerr=keep_stds['outfile_seeks'], label='outfile_seeks (keep)', color=['darkgreen'])\n",
    "    \n",
    "    ax.set_xlabel('Number of seeks')\n",
    "    if first:\n",
    "        ax.set_ylabel('Configuration')\n",
    "    ax.set_title(title)\n",
    "    ax.set_xscale('log')\n",
    "    \n",
    "    ref_names = sorted(references)\n",
    "    ref_names = [\"\"] + list(map(lambda x: \"#\" + str(x), ref_names))\n",
    "    ax.set_yticklabels(ref_names)\n",
    "    \n",
    "    return \n",
    "\n",
    "compute_graph(results_path_4, ax1, '4.3 GiB', legend=False, first=True)\n",
    "compute_graph(results_path_8, ax2, '8.6 GiB', legend=False)\n",
    "compute_graph(results_path_256, ax3, '275 GiB', legend=True)\n",
    "for spine in ax1.spines.values():\n",
    "    spine.set_visible(False)\n",
    "for spine in ax2.spines.values():\n",
    "    spine.set_visible(False)\n",
    "for spine in ax3.spines.values():\n",
    "    spine.set_visible(False)\n",
    "\n",
    "    \n",
    "import matplotlib.patches as mpatches\n",
    "p1 = mpatches.Patch(color='tab:green', label='Outblock openings')\n",
    "p2 = mpatches.Patch(color='darkgreen', label='Outblock seeks')\n",
    "p3 = mpatches.Patch(color='tab:blue', label='Inblock openings')\n",
    "p4 = mpatches.Patch(color='darkblue', label='Inblock seeks')\n",
    "p5 = mpatches.Patch(color='black', label='Keep (solid colors)')\n",
    "p6 = mpatches.Patch(color='black', alpha=0.3, label='Baseline (transparent colors)')\n",
    "plt.legend(handles=[p3, p4, p1, p2, p5, p6], ncol=6, bbox_to_anchor=(1., 1.1))\n",
    "plt.savefig('../../rechunk-paper/figures/seeks_3500.pdf', bbox_inches=\"tight\")\n"
   ]
  },
  {
   "cell_type": "code",
   "execution_count": null,
   "metadata": {},
   "outputs": [],
   "source": []
  },
  {
   "cell_type": "code",
   "execution_count": null,
   "metadata": {},
   "outputs": [],
   "source": []
  },
  {
   "cell_type": "code",
   "execution_count": null,
   "metadata": {},
   "outputs": [],
   "source": []
  }
 ],
 "metadata": {
  "kernelspec": {
   "display_name": "Python 3",
   "language": "python",
   "name": "python3"
  },
  "language_info": {
   "codemirror_mode": {
    "name": "ipython",
    "version": 3
   },
   "file_extension": ".py",
   "mimetype": "text/x-python",
   "name": "python",
   "nbconvert_exporter": "python",
   "pygments_lexer": "ipython3",
   "version": "3.8.3"
  },
  "toc": {
   "base_numbering": 1,
   "nav_menu": {},
   "number_sections": true,
   "sideBar": true,
   "skip_h1_title": false,
   "title_cell": "Table of Contents",
   "title_sidebar": "Contents",
   "toc_cell": false,
   "toc_position": {},
   "toc_section_display": true,
   "toc_window_display": false
  }
 },
 "nbformat": 4,
 "nbformat_minor": 2
}
