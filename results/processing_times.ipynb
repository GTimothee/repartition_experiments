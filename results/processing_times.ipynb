{
 "cells": [
  {
   "cell_type": "code",
   "execution_count": 1,
   "metadata": {},
   "outputs": [],
   "source": [
    "import os, csv, math\n",
    "import pandas as pd\n",
    "import matplotlib.pyplot as plt\n",
    "import numpy as np"
   ]
  },
  {
   "cell_type": "code",
   "execution_count": 2,
   "metadata": {},
   "outputs": [],
   "source": [
    "results_path_256 = './3500_results/256GB/graphs/results.csv'\n",
    "results_path_8 = './3500_results/8GB/graphs/results.csv'\n",
    "results_path_4 = './3500_results/4GB/graphs/results.csv'"
   ]
  },
  {
   "cell_type": "code",
   "execution_count": 3,
   "metadata": {},
   "outputs": [
    {
     "name": "stdout",
     "output_type": "stream",
     "text": [
      "   run_ref     model  process_time  preprocess_time   read_time  write_time  \\\n",
      "0        3  baseline    909.907476         0.000000  207.139655  693.089507   \n",
      "1        1  baseline    581.302264         0.000000  262.960441  317.979834   \n",
      "2        3      keep    505.873381         3.976405  269.619133   80.419943   \n",
      "3        5      keep    378.921909         0.075341  272.095709   50.161825   \n",
      "4        1      keep    384.355336         0.015230  225.374247   55.059827   \n",
      "\n",
      "    nb_seeks    overhead  \n",
      "0  196337576    9.678313  \n",
      "1   73500112    0.361989  \n",
      "2       7144  151.857901  \n",
      "3       1316   56.589033  \n",
      "4        356  103.906032  \n",
      "   run_ref     model  process_time  preprocess_time   read_time  write_time  \\\n",
      "0        4      keep    760.375015         8.056536  409.708791  136.982041   \n",
      "1        1      keep    353.979367         0.015043  240.009593   49.993392   \n",
      "2        4  baseline   1338.395106         0.000000  309.873481  951.012802   \n",
      "3        6      keep    358.482591         0.368170  257.289407   62.746205   \n",
      "4        0      keep    350.043940         0.004097  295.838551   53.456148   \n",
      "\n",
      "    nb_seeks    overhead  \n",
      "0      15448  205.627647  \n",
      "1        356   63.961339  \n",
      "2  392008000   77.508823  \n",
      "3       1100   38.078809  \n",
      "4         96    0.745144  \n",
      "   run_ref     model  process_time  preprocess_time   read_time  write_time  \\\n",
      "0        0  baseline    275.530385         0.000000  222.343900   53.070621   \n",
      "1        4  baseline    937.259204         0.000000  318.490890  548.323797   \n",
      "2        3  baseline    511.129013         0.000000  250.862298  250.257653   \n",
      "3        2  baseline    432.782916         0.000000  255.070490  176.146614   \n",
      "4        5      keep    359.884638         0.057732  258.523666   42.259183   \n",
      "\n",
      "    nb_seeks   overhead  \n",
      "0      56064   0.115864  \n",
      "1  392008000  70.444517  \n",
      "2  196337576  10.009062  \n",
      "3  196001000   1.565812  \n",
      "4        596  59.044056  \n"
     ]
    },
    {
     "name": "stderr",
     "output_type": "stream",
     "text": [
      "/home/glatard/venvs/jupyter/lib64/python3.8/site-packages/numpy/core/_asarray.py:83: UserWarning: Warning: converting a masked element to nan.\n",
      "  return array(a, dtype, copy=False, order=order)\n",
      "<ipython-input-3-f837700cdc8b>:62: UserWarning: FixedFormatter should only be used together with FixedLocator\n",
      "  ax.set_yticklabels(ref_names)\n",
      "/home/glatard/venvs/jupyter/lib64/python3.8/site-packages/numpy/core/_asarray.py:83: UserWarning: Warning: converting a masked element to nan.\n",
      "  return array(a, dtype, copy=False, order=order)\n",
      "<ipython-input-3-f837700cdc8b>:62: UserWarning: FixedFormatter should only be used together with FixedLocator\n",
      "  ax.set_yticklabels(ref_names)\n",
      "/home/glatard/venvs/jupyter/lib64/python3.8/site-packages/numpy/core/_asarray.py:83: UserWarning: Warning: converting a masked element to nan.\n",
      "  return array(a, dtype, copy=False, order=order)\n",
      "<ipython-input-3-f837700cdc8b>:62: UserWarning: FixedFormatter should only be used together with FixedLocator\n",
      "  ax.set_yticklabels(ref_names)\n"
     ]
    },
    {
     "data": {
      "image/png": "[encoded data removed]",
      "text/plain": [
       "<Figure size 1080x576 with 3 Axes>"
      ]
     },
     "metadata": {
      "needs_background": "light"
     },
     "output_type": "display_data"
    }
   ],
   "source": [
    "fig, (ax1, ax2, ax3) = plt.subplots(1,3,figsize=(15, 8), sharey=True)\n",
    "for ax in (ax1, ax2, ax3):\n",
    "    ax.grid(True, axis='x', which='major', color='black', alpha=0.2, zorder=0)\n",
    "\n",
    "\n",
    "def compute_graph(results_path, ax, title, legend=False, first=False):\n",
    "    df = pd.read_csv(results_path)\n",
    "    df_seeks = pd.read_csv(results_path)\n",
    "\n",
    "    # preprocessing\n",
    "    df = df.drop(columns=['max_voxels', 'success', 'case_name', 'Unnamed: 0'])\n",
    "    df['nb_seeks'] = df['outfile_openings'] + df['outfile_seeks'] + df['infile_openings'] + df['infile_seeks']\n",
    "    df = df.drop(columns=['outfile_openings', 'outfile_seeks', 'infile_openings', 'infile_seeks'])\n",
    "    df['overhead'] = df['process_time'] - df['preprocess_time'] - df['read_time'] - df['write_time']\n",
    "\n",
    "    \n",
    "    \n",
    "    print(df.head())\n",
    "    \n",
    "    references = df[\"run_ref\"].unique()\n",
    "    models = df[\"model\"].unique()\n",
    "\n",
    "    # df splits\n",
    "    df = df.sort_values([\"model\", \"run_ref\"])\n",
    "\n",
    "    df_keep = df.loc[df[\"model\"]==\"keep\"]\n",
    "    keep_means = df_keep.groupby('run_ref').mean()\n",
    "    keep_stds = df_keep.groupby('run_ref').std()\n",
    "\n",
    "    df_baseline = df.loc[df[\"model\"]==\"baseline\"]\n",
    "    baseline_means = df_baseline.groupby('run_ref').mean()\n",
    "    baseline_stds = df_baseline.groupby('run_ref').std()\n",
    "    \n",
    "    x = np.arange(len(references))  # the label locations\n",
    "    baseline_prepross_bottom = baseline_means[\"write_time\"] + baseline_means['read_time']\n",
    "    baseline_overhead_bottom = baseline_prepross_bottom + baseline_means['preprocess_time']\n",
    "    keep_prepross_bottom = keep_means[\"write_time\"] + keep_means['read_time']\n",
    "    keep_overhead_bottom = keep_prepross_bottom + keep_means['preprocess_time']\n",
    "    \n",
    "    width = 0.20  # the width of the bars\n",
    "    width_step = [width /2, width /2]\n",
    "    \n",
    "    _ = ax.barh(x - width_step[0], baseline_means[\"read_time\"], width, yerr=baseline_stds['read_time'], label='read time (baseline)', color=['tab:blue'], alpha=0.5)\n",
    "    _ = ax.barh(x - width_step[0], baseline_means[\"write_time\"], width, left=baseline_means[\"read_time\"], yerr=baseline_stds['write_time'], label='write time (baseline)', color=['tab:green'], alpha=0.5)\n",
    "    _ = ax.barh(x - width_step[0], baseline_means[\"preprocess_time\"], width, left=baseline_prepross_bottom, yerr=baseline_stds['preprocess_time'], label='preprocessing time (baseline)', color=['tab:orange'], alpha=0.5)\n",
    "    _ = ax.barh(x - width_step[0], baseline_means[\"overhead\"], width, left=baseline_overhead_bottom, yerr=baseline_stds['overhead'], label='overhead time (baseline)', color=['tab:red'], alpha=0.5)\n",
    "\n",
    "    bar1 = ax.barh(x + width_step[1], keep_means[\"read_time\"], width, yerr=keep_stds['read_time'], label='read time (keep)', color=['tab:blue'])\n",
    "    bar2 = ax.barh(x + width_step[1], keep_means[\"write_time\"], width, left=keep_means['read_time'], yerr=keep_stds['write_time'], label='write time (keep)', color=['tab:green'])\n",
    "    bar3 = ax.barh(x + width_step[1], keep_means[\"preprocess_time\"], width, left=keep_prepross_bottom, yerr=keep_stds['preprocess_time'], label='preprocessing time (keep)', color=['tab:orange'])\n",
    "    bar4 = ax.barh(x + width_step[1], keep_means[\"overhead\"], width, left=keep_overhead_bottom, yerr=keep_stds['overhead'], label='overhead time (keep)', color=['tab:red'])\n",
    "\n",
    "    ax.set_xlabel('Processing time (s)')\n",
    "    if first:\n",
    "        ax.set_ylabel('Configuration')\n",
    "    ax.set_title(title)\n",
    "    # ax.set_xticks(x)\n",
    "    \n",
    "    ref_names = sorted(references)\n",
    "    ref_names = [\"\"] + list(map(lambda x: \"#\" + str(x), ref_names))\n",
    "    \n",
    "    ax.set_yticklabels(ref_names)\n",
    "    ax.set_xlim(right=1600) #-> for 3500 img results\n",
    "    \n",
    "    \n",
    "    return \n",
    "\n",
    "compute_graph(results_path_4, ax1, '4.3 GiB', legend=False, first=True)\n",
    "compute_graph(results_path_8, ax2, '8.6 GiB', legend=False)\n",
    "compute_graph(results_path_256, ax3, '275 GiB', legend=True)\n",
    "\n",
    "for spine in ax1.spines.values():\n",
    "    spine.set_visible(False)\n",
    "for spine in ax2.spines.values():\n",
    "    spine.set_visible(False)\n",
    "for spine in ax3.spines.values():\n",
    "    spine.set_visible(False)\n",
    "    \n",
    "import matplotlib.patches as mpatches\n",
    "p1 = mpatches.Patch(color='tab:blue', label='Read')\n",
    "p2 = mpatches.Patch(color='tab:green', label='Write')\n",
    "p3 = mpatches.Patch(color='tab:orange', label='Search')\n",
    "p4 = mpatches.Patch(color='tab:red', label='Overhead')\n",
    "p5 = mpatches.Patch(color='black', label='Keep (solid colors)')\n",
    "p6 = mpatches.Patch(color='black', alpha=0.3, label='Baseline (transparent colors)')\n",
    "plt.legend(handles=[p1, p2, p3, p4, p5, p6], ncol=6, bbox_to_anchor=(0.6, 1.1))\n",
    "plt.savefig('../../rechunk-paper/figures/time_3500.pdf', bbox_inches=\"tight\")\n"
   ]
  },
  {
   "cell_type": "code",
   "execution_count": null,
   "metadata": {},
   "outputs": [],
   "source": []
  }
 ],
 "metadata": {
  "kernelspec": {
   "display_name": "Python 3",
   "language": "python",
   "name": "python3"
  },
  "language_info": {
   "codemirror_mode": {
    "name": "ipython",
    "version": 3
   },
   "file_extension": ".py",
   "mimetype": "text/x-python",
   "name": "python",
   "nbconvert_exporter": "python",
   "pygments_lexer": "ipython3",
   "version": "3.7.5"
  },
  "toc": {
   "base_numbering": 1,
   "nav_menu": {},
   "number_sections": true,
   "sideBar": true,
   "skip_h1_title": false,
   "title_cell": "Table of Contents",
   "title_sidebar": "Contents",
   "toc_cell": false,
   "toc_position": {},
   "toc_section_display": true,
   "toc_window_display": false
  }
 },
 "nbformat": 4,
 "nbformat_minor": 2
}
