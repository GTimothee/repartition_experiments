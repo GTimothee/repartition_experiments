{
 "cells": [
  {
   "cell_type": "code",
   "execution_count": 31,
   "metadata": {},
   "outputs": [],
   "source": [
    "import os, csv, math\n",
    "import pandas as pd\n",
    "import matplotlib.pyplot as plt\n",
    "import numpy as np"
   ]
  },
  {
   "cell_type": "code",
   "execution_count": 32,
   "metadata": {},
   "outputs": [],
   "source": [
    "results_path_256 = './3500_results/256GB/graphs/results.csv'\n",
    "results_path_8 = './3500_results/8GB/graphs/results.csv'\n",
    "results_path_4 = './3500_results/4GB/graphs/results.csv'"
   ]
  },
  {
   "cell_type": "code",
   "execution_count": 33,
   "metadata": {},
   "outputs": [
    {
     "name": "stdout",
     "output_type": "stream",
     "text": [
      "0    0.977817\n",
      "1    0.986701\n",
      "2    1.066784\n",
      "3    0.970100\n",
      "4    1.368723\n",
      "5    0.966060\n",
      "6    0.941577\n",
      "Name: process_time, dtype: float64\n",
      "0    1.313186\n",
      "1    1.318447\n",
      "2    1.893067\n",
      "3    1.375281\n",
      "4    1.760178\n",
      "5    1.473659\n",
      "6    0.957604\n",
      "Name: process_time, dtype: float64\n",
      "0    1.232067\n",
      "1    1.512408\n",
      "2    2.004931\n",
      "3    1.798686\n",
      "4    2.195228\n",
      "5    1.514857\n",
      "6    1.001974\n",
      "Name: process_time, dtype: float64\n"
     ]
    }
   ],
   "source": [
    "def get_max_speedup_factor(results_path):\n",
    "    df = pd.read_csv(results_path)\n",
    "    df_baseline = df[df[\"model\"]==\"baseline\"].sort_values([\"run_ref\"]).reset_index()\n",
    "    df_keep = df[df[\"model\"]==\"keep\"].sort_values([\"run_ref\"]).reset_index()\n",
    "    diff = df_baseline[\"process_time\"] / df_keep[\"process_time\"]\n",
    "    print(diff)\n",
    "    \n",
    "get_max_speedup_factor(results_path_256)\n",
    "get_max_speedup_factor(results_path_8)\n",
    "get_max_speedup_factor(results_path_4)"
   ]
  },
  {
   "cell_type": "code",
   "execution_count": 42,
   "metadata": {},
   "outputs": [
    {
     "name": "stdout",
     "output_type": "stream",
     "text": [
      "144667.98590413487\n",
      "66735.79192286963\n",
      "65943.89108559911\n"
     ]
    }
   ],
   "source": [
    "def get_mean_seek_reduction_factor(results_path):\n",
    "    df = pd.read_csv(results_path)\n",
    "    df_baseline = df[df[\"model\"]==\"baseline\"].sort_values([\"run_ref\"]).reset_index()\n",
    "    df_keep = df[df[\"model\"]==\"keep\"].sort_values([\"run_ref\"]).reset_index()\n",
    "    df_baseline[\"total_seeks\"] = df_baseline[\"outfile_openings\"] + df_baseline[\"outfile_seeks\"] + df_baseline[\"infile_openings\"] + df_baseline[\"infile_seeks\"]\n",
    "    df_keep[\"total_seeks\"] = df_keep[\"outfile_openings\"] + df_keep[\"outfile_seeks\"] + df_keep[\"infile_openings\"] + df_keep[\"infile_seeks\"]\n",
    "    diff = df_baseline[\"total_seeks\"] / df_keep[\"total_seeks\"]\n",
    "    print(diff.mean())\n",
    "    \n",
    "get_mean_seek_reduction_factor(results_path_256)\n",
    "get_mean_seek_reduction_factor(results_path_8)\n",
    "get_mean_seek_reduction_factor(results_path_4)"
   ]
  },
  {
   "cell_type": "code",
   "execution_count": 43,
   "metadata": {},
   "outputs": [
    {
     "data": {
      "text/plain": [
       "92448.33333333333"
      ]
     },
     "execution_count": 43,
     "metadata": {},
     "output_type": "execute_result"
    }
   ],
   "source": [
    "(144667+66735+65943)/3"
   ]
  }
 ],
 "metadata": {
  "kernelspec": {
   "display_name": "Python 3",
   "language": "python",
   "name": "python3"
  },
  "language_info": {
   "codemirror_mode": {
    "name": "ipython",
    "version": 3
   },
   "file_extension": ".py",
   "mimetype": "text/x-python",
   "name": "python",
   "nbconvert_exporter": "python",
   "pygments_lexer": "ipython3",
   "version": "3.7.5"
  },
  "toc": {
   "base_numbering": 1,
   "nav_menu": {},
   "number_sections": true,
   "sideBar": true,
   "skip_h1_title": false,
   "title_cell": "Table of Contents",
   "title_sidebar": "Contents",
   "toc_cell": false,
   "toc_position": {},
   "toc_section_display": true,
   "toc_window_display": false
  }
 },
 "nbformat": 4,
 "nbformat_minor": 2
}
